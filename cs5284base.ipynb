{
  "cells": [
    {
      "cell_type": "code",
      "source": [
        "from google.colab import drive\n",
        "drive.mount('/content/drive')"
      ],
      "metadata": {
        "id": "lwnHRpM8IXgV",
        "colab": {
          "base_uri": "https://localhost:8080/"
        },
        "outputId": "6933600f-a1c4-4d82-f3f1-6be836cef06d"
      },
      "execution_count": 1,
      "outputs": [
        {
          "output_type": "stream",
          "name": "stdout",
          "text": [
            "Mounted at /content/drive\n"
          ]
        }
      ]
    },
    {
      "cell_type": "code",
      "execution_count": 5,
      "metadata": {
        "id": "zwFnJsE6vjf8",
        "colab": {
          "base_uri": "https://localhost:8080/"
        },
        "outputId": "0df75245-34fc-4c9f-d0a0-37c35205d33f"
      },
      "outputs": [
        {
          "output_type": "execute_result",
          "data": {
            "text/plain": [
              "((1980, 10, 1), (1980, 1), (488, 10, 1), (488, 1))"
            ]
          },
          "metadata": {},
          "execution_count": 5
        }
      ],
      "source": [
        "import pandas as pd\n",
        "import numpy as np\n",
        "from sklearn.model_selection import train_test_split\n",
        "from sklearn.preprocessing import MinMaxScaler\n",
        "from sklearn.svm import SVR\n",
        "from sklearn.metrics import mean_squared_error, mean_absolute_error\n",
        "from tensorflow.keras.models import Sequential\n",
        "from tensorflow.keras.layers import Dense, LSTM, GRU\n",
        "# Load the datasets\n",
        "stock_data_path = '/content/drive/MyDrive/cs5284pro/dow_1day_price.csv'\n",
        "# etf_data_path = '/content/drivedata/etf_1day_price.csv'\n",
        "\n",
        "# Read the data\n",
        "time_series_data = pd.read_csv(stock_data_path)\n",
        "# etf_data = pd.read_csv(etf_data_path)\n",
        "\n",
        "# Select the first column for modeling\n",
        "target_column = time_series_data.columns[0]\n",
        "target_series = time_series_data[target_column]\n",
        "\n",
        "# Split data into training and testing sets (e.g., 80% train, 20% test)\n",
        "train_size = int(len(target_series) * 0.8)\n",
        "train_data = target_series[:train_size]\n",
        "test_data = target_series[train_size:]\n",
        "\n",
        "# Normalize the data\n",
        "scaler = MinMaxScaler()\n",
        "train_scaled = scaler.fit_transform(train_data.values.reshape(-1, 1))\n",
        "test_scaled = scaler.transform(test_data.values.reshape(-1, 1))\n",
        "\n",
        "# Create sequences for time series modeling\n",
        "def create_sequences(data, time_steps=10):\n",
        "    X, y = [], []\n",
        "    for i in range(len(data) - time_steps):\n",
        "        X.append(data[i:i + time_steps])\n",
        "        y.append(data[i + time_steps])\n",
        "    return np.array(X), np.array(y)\n",
        "\n",
        "time_steps = 10\n",
        "X_train, y_train = create_sequences(train_scaled, time_steps)\n",
        "X_test, y_test = create_sequences(test_scaled, time_steps)\n",
        "\n",
        "# Reshape data for LSTM/GRU\n",
        "X_train_lstm = X_train.reshape(X_train.shape[0], X_train.shape[1], 1)\n",
        "X_test_lstm = X_test.reshape(X_test.shape[0], X_test.shape[1], 1)\n",
        "\n",
        "# Output the prepared data shapes for verification\n",
        "X_train.shape, y_train.shape, X_test.shape, y_test.shape\n",
        "\n"
      ]
    },
    {
      "cell_type": "code",
      "source": [
        "# Train an SVR model\n",
        "svr_model = SVR(kernel='rbf', C=1.0, epsilon=0.1)\n",
        "svr_model.fit(X_train.reshape(X_train.shape[0], -1), y_train.ravel())\n",
        "\n",
        "# Make predictions using the SVR model\n",
        "y_pred_svr = svr_model.predict(X_test.reshape(X_test.shape[0], -1))\n",
        "\n",
        "# Rescale predictions and true values back to the original scale\n",
        "y_test_rescaled = scaler.inverse_transform(y_test)\n",
        "y_pred_svr_rescaled = scaler.inverse_transform(y_pred_svr.reshape(-1, 1))\n",
        "\n",
        "# Evaluate SVR model\n",
        "svr_mse = mean_squared_error(y_test_rescaled, y_pred_svr_rescaled)\n",
        "svr_mae = mean_absolute_error(y_test_rescaled, y_pred_svr_rescaled)\n",
        "\n",
        "svr_mse, svr_mae\n"
      ],
      "metadata": {
        "colab": {
          "base_uri": "https://localhost:8080/"
        },
        "id": "DUrDZbtHUWME",
        "outputId": "0aaf9d91-8bd2-49ad-ee63-f7fdd8489f1f"
      },
      "execution_count": 7,
      "outputs": [
        {
          "output_type": "execute_result",
          "data": {
            "text/plain": [
              "(79.58115785930434, 4.38344320784003)"
            ]
          },
          "metadata": {},
          "execution_count": 7
        }
      ]
    },
    {
      "cell_type": "code",
      "source": [
        "from tensorflow.keras.models import Sequential\n",
        "from tensorflow.keras.layers import Dense, LSTM\n",
        "\n",
        "# Build the LSTM model\n",
        "lstm_model = Sequential([\n",
        "    LSTM(50, activation='relu', input_shape=(X_train_lstm.shape[1], X_train_lstm.shape[2])),\n",
        "    Dense(1)  # Output layer\n",
        "])\n",
        "\n",
        "# Compile the model\n",
        "lstm_model.compile(optimizer='adam', loss='mse')\n",
        "\n",
        "# Train the model\n",
        "lstm_model.fit(X_train_lstm, y_train, epochs=10, batch_size=32, verbose=0)\n",
        "\n",
        "# Make predictions using the LSTM model\n",
        "y_pred_lstm = lstm_model.predict(X_test_lstm)\n",
        "\n",
        "# Rescale predictions back to the original scale\n",
        "y_pred_lstm_rescaled = scaler.inverse_transform(y_pred_lstm)\n",
        "y_test_rescaled = scaler.inverse_transform(y_test)\n",
        "\n",
        "# Evaluate LSTM model\n",
        "lstm_mse = mean_squared_error(y_test_rescaled, y_pred_lstm_rescaled)\n",
        "lstm_mae = mean_absolute_error(y_test_rescaled, y_pred_lstm_rescaled)\n",
        "\n",
        "lstm_mse, lstm_mae\n"
      ],
      "metadata": {
        "colab": {
          "base_uri": "https://localhost:8080/"
        },
        "id": "ILeK55ENRkxl",
        "outputId": "d6c3d328-fadd-41d4-a2c1-6224eb235fcd"
      },
      "execution_count": 6,
      "outputs": [
        {
          "output_type": "stream",
          "name": "stderr",
          "text": [
            "/usr/local/lib/python3.10/dist-packages/keras/src/layers/rnn/rnn.py:204: UserWarning: Do not pass an `input_shape`/`input_dim` argument to a layer. When using Sequential models, prefer using an `Input(shape)` object as the first layer in the model instead.\n",
            "  super().__init__(**kwargs)\n"
          ]
        },
        {
          "output_type": "stream",
          "name": "stdout",
          "text": [
            "\u001b[1m16/16\u001b[0m \u001b[32m━━━━━━━━━━━━━━━━━━━━\u001b[0m\u001b[37m\u001b[0m \u001b[1m1s\u001b[0m 19ms/step\n"
          ]
        },
        {
          "output_type": "execute_result",
          "data": {
            "text/plain": [
              "(2.658832232212019, 1.171209470207965)"
            ]
          },
          "metadata": {},
          "execution_count": 6
        }
      ]
    },
    {
      "cell_type": "code",
      "source": [
        "from tensorflow.keras.models import Sequential\n",
        "from tensorflow.keras.layers import Dense, GRU\n",
        "\n",
        "# Build the GRU model\n",
        "gru_model = Sequential([\n",
        "    GRU(50, activation='relu', input_shape=(X_train_lstm.shape[1], X_train_lstm.shape[2])),\n",
        "    Dense(1)  # Output layer\n",
        "])\n",
        "\n",
        "# Compile the model\n",
        "gru_model.compile(optimizer='adam', loss='mse')\n",
        "\n",
        "# Train the model\n",
        "gru_model.fit(X_train_lstm, y_train, epochs=10, batch_size=32, verbose=0)\n",
        "\n",
        "# Make predictions using the GRU model\n",
        "y_pred_gru = gru_model.predict(X_test_lstm)\n",
        "\n",
        "# Rescale predictions back to the original scale\n",
        "y_pred_gru_rescaled = scaler.inverse_transform(y_pred_gru)\n",
        "y_test_rescaled = scaler.inverse_transform(y_test)\n",
        "\n",
        "# Evaluate GRU model\n",
        "gru_mse = mean_squared_error(y_test_rescaled, y_pred_gru_rescaled)\n",
        "gru_mae = mean_absolute_error(y_test_rescaled, y_pred_gru_rescaled)\n",
        "\n",
        "gru_mse, gru_mae\n"
      ],
      "metadata": {
        "colab": {
          "base_uri": "https://localhost:8080/"
        },
        "id": "VnRmms0wVFEx",
        "outputId": "133eeb65-d031-421d-9e8d-b495443d342b"
      },
      "execution_count": 8,
      "outputs": [
        {
          "output_type": "stream",
          "name": "stderr",
          "text": [
            "/usr/local/lib/python3.10/dist-packages/keras/src/layers/rnn/rnn.py:204: UserWarning: Do not pass an `input_shape`/`input_dim` argument to a layer. When using Sequential models, prefer using an `Input(shape)` object as the first layer in the model instead.\n",
            "  super().__init__(**kwargs)\n"
          ]
        },
        {
          "output_type": "stream",
          "name": "stdout",
          "text": [
            "\u001b[1m16/16\u001b[0m \u001b[32m━━━━━━━━━━━━━━━━━━━━\u001b[0m\u001b[37m\u001b[0m \u001b[1m2s\u001b[0m 67ms/step\n"
          ]
        },
        {
          "output_type": "execute_result",
          "data": {
            "text/plain": [
              "(3.25513806914114, 1.1307827093343266)"
            ]
          },
          "metadata": {},
          "execution_count": 8
        }
      ]
    }
  ],
  "metadata": {
    "colab": {
      "provenance": []
    },
    "kernelspec": {
      "display_name": "Python 3",
      "name": "python3"
    }
  },
  "nbformat": 4,
  "nbformat_minor": 0
}